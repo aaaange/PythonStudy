{
 "cells": [
  {
   "cell_type": "code",
   "execution_count": 1,
   "metadata": {},
   "outputs": [
    {
     "data": {
      "text/plain": [
       "()"
      ]
     },
     "execution_count": 1,
     "metadata": {},
     "output_type": "execute_result"
    }
   ],
   "source": [
    "import pymysql # MySQL 연동을 위한 라이브러리\n",
    "\n",
    "# MySQL Connection 연결\n",
    "mysql_db = pymysql.connect(\n",
    "    host='localhost',\n",
    "    user='root',\n",
    "    password='admin',\n",
    "    cursorclass=pymysql.cursors.DictCursor\n",
    ")\n",
    "\n",
    "cursor = mysql_db.cursor()\n",
    "\n",
    "cursor.execute(\"USE sql_test\") # 지금부터, sql_test 데이터베이스를 사용할꺼야.\n",
    "cursor.fetchall()"
   ]
  },
  {
   "cell_type": "markdown",
   "metadata": {},
   "source": [
    "# 데이터 적재\n",
    "테이블을 생성을 해봤으니, 테이블에 데이터도 넣어봐야 한다.\n",
    "\n",
    "## INSERT into 테이블 (컬럼 리스트) values (각 컬럼에 맞는 데이터)\n",
    "\n",
    "```SQL\n",
    "INSERT into user_table (name, sex, home_address, phone_number) values ('김동호', 0, '서울특별시 뭐시기 뭐시기', '010-1234-1234'), (데이터2 ...), (데이터3 ..);\n",
    "```"
   ]
  },
  {
   "cell_type": "code",
   "execution_count": 18,
   "metadata": {},
   "outputs": [
    {
     "name": "stdout",
     "output_type": "stream",
     "text": [
      "()\n"
     ]
    }
   ],
   "source": [
    "cursor.execute(\"\"\"INSERT into sql_test.user_table (name, sex, home_address, phone_number) \n",
    "               values ('김동호', 0, '서울특별시 뭐시기 뭐시기', '010-1234-1234'),\n",
    "               ('이아영', 1, \"ㅁㄴㅇㅁㄴㅇ\", \"010-1234-1235\");\"\"\")\n",
    "\n",
    "result = cursor.fetchall() # 실행ㄴ\n",
    "print(result) # 결과 -> 아무것도 안뜨면 정상"
   ]
  },
  {
   "cell_type": "markdown",
   "metadata": {},
   "source": [
    "# 데이터를 가져오는 방법\n",
    "\n",
    "## SELECT 가져올 범위 FROM 어디서 가져올지;\n",
    "\n",
    "```SQL\n",
    "SELECT * FROM user_table;\n",
    "```\n",
    "'*' -> 와일드 카드를 의미함.\n",
    "위 쿼리는 user_table안에 있는 모든 컬럼을 대상으로 정보를 가져오는 쿼리문.\n",
    "\n",
    "```SQL\n",
    "SELECT name, phone_number FROM user_table;\n",
    "```"
   ]
  },
  {
   "cell_type": "code",
   "execution_count": 19,
   "metadata": {},
   "outputs": [
    {
     "name": "stdout",
     "output_type": "stream",
     "text": [
      "[{'id': 1, 'name': '김동호', 'sex': b'\\x00', 'home_address': '서울특별시 뭐시기 뭐시기', 'phone_number': '010-1234-1234'}, {'id': 2, 'name': '이아영', 'sex': b'\\x01', 'home_address': 'ㅁㄴㅇㅁㄴㅇ', 'phone_number': '010-1234-1235'}]\n"
     ]
    }
   ],
   "source": [
    "sql = \"\"\"\n",
    "SELECT * FROM user_table;\n",
    "\"\"\"\n",
    "\n",
    "cursor.execute(sql)\n",
    "result = cursor.fetchall()\n",
    "print(result)"
   ]
  },
  {
   "cell_type": "code",
   "execution_count": 20,
   "metadata": {},
   "outputs": [
    {
     "name": "stdout",
     "output_type": "stream",
     "text": [
      "[{'name': '김동호', 'phone_number': '010-1234-1234'}, {'name': '이아영', 'phone_number': '010-1234-1235'}]\n"
     ]
    }
   ],
   "source": [
    "sql =\"\"\"\n",
    "SELECT name, phone_number FROM user_table;\n",
    "\"\"\"\n",
    "\n",
    "cursor.execute(sql)\n",
    "result = cursor.fetchall()\n",
    "print(result)"
   ]
  },
  {
   "cell_type": "markdown",
   "metadata": {},
   "source": [
    "# 데이터중에서 조건을 걸어서 원하는 범위(혹은 상태)를 가진 데이터만 추출해서 보고싶을 경우, WHERE문을 사용\n",
    "\n",
    "## SELECT * FROM user_table WHERE 조건;\n",
    "\n",
    "```SQL\n",
    "SELECT * FROM user_table WHERE sex=0;\n",
    "```\n",
    "\n",
    "```SQL\n",
    "SELECT * FROM user_table WHERE sex=0 AND home_address=''; // 둘 다 만족하는 결과가 나옴\n",
    "SELECT * FROM user_table WHERE sex=0 OR home_address=''; // 둘 중 하나만 만족하는 결과가 나옴.\n",
    "조건부에서 사용하는 비교 연산자는 아래와 같음\n",
    "= 같다\n",
    "<> 다르다\n",
    ">= 크거나 같다\n",
    "<= 작거나 같다\n",
    "> 크다\n",
    "< 작다\n",
    "```"
   ]
  },
  {
   "cell_type": "code",
   "execution_count": 22,
   "metadata": {},
   "outputs": [
    {
     "name": "stdout",
     "output_type": "stream",
     "text": [
      "[{'name': '이아영'}]\n"
     ]
    }
   ],
   "source": [
    "sql = \"\"\"\n",
    "SELECT name FROM user_table WHERE sex = 1;\n",
    "\"\"\"\n",
    "\n",
    "cursor.execute(sql)\n",
    "result = cursor.fetchall()\n",
    "print(result)"
   ]
  },
  {
   "cell_type": "markdown",
   "metadata": {},
   "source": [
    "> 복합 조건문을 걸기 위해 임시 데이터 추가로 넣어보겠습니다"
   ]
  },
  {
   "cell_type": "code",
   "execution_count": 23,
   "metadata": {},
   "outputs": [
    {
     "name": "stdout",
     "output_type": "stream",
     "text": [
      "()\n"
     ]
    }
   ],
   "source": [
    "sql = \"\"\"\n",
    "INSERT INTO user_table (name, sex, home_address, phone_number)\n",
    "VALUES ('홍길동', 0, \"서울특별시\", \"010-1234-1234\"),\n",
    "        ('홍길투', 1, \"경기도\", \"011-1234-1234\"),\n",
    "        ('홍길쓰리', 0, \"서울특별시\", \"010-1234-1234\"),\n",
    "        ('홍길포', 0, \"부산광역시\", \"011-1234-1234\")\n",
    "\"\"\"\n",
    "cursor.execute(sql)\n",
    "result = cursor.fetchall()\n",
    "print(result)"
   ]
  },
  {
   "cell_type": "code",
   "execution_count": 26,
   "metadata": {},
   "outputs": [
    {
     "name": "stdout",
     "output_type": "stream",
     "text": [
      "[{'id': 1, 'name': '김동호', 'sex': b'\\x00', 'home_address': '서울특별시 뭐시기 뭐시기', 'phone_number': '010-1234-1234'}, {'id': 3, 'name': '홍길동', 'sex': b'\\x00', 'home_address': '서울특별시', 'phone_number': '010-1234-1234'}, {'id': 5, 'name': '홍길쓰리', 'sex': b'\\x00', 'home_address': '서울특별시', 'phone_number': '010-1234-1234'}, {'id': 6, 'name': '홍길포', 'sex': b'\\x00', 'home_address': '부산광역시', 'phone_number': '011-1234-1234'}]\n"
     ]
    }
   ],
   "source": [
    "# 남성이면서 서울특별시에 사는 사람을 찾아보자.\n",
    "\n",
    "sql = \"\"\"\n",
    "SELECT * FROM user_table WHERE sex = 0 OR home_address LIKE '서울특별시%'; # LIKE {args}처럼 생긴 모든 결과를 가지고옴\n",
    "\"\"\"\n",
    "\n",
    "cursor.execute(sql)\n",
    "result = cursor.fetchall()\n",
    "print(result)"
   ]
  },
  {
   "cell_type": "markdown",
   "metadata": {},
   "source": [
    "# 다양한 범위의 값을 가져오려면 LIKE를 활용해보자.\n",
    "\n",
    "## LIKE {args%}\n",
    "\n",
    "-> 여담. LIKE문 쓸 때, 스트링 앞에 %는 최대한 피하자.\n",
    "```SQL\n",
    "SELECT * FROM user_table WHERE sex = 0 AND home_address LIKE '서울특별시%';\n",
    "```"
   ]
  },
  {
   "cell_type": "markdown",
   "metadata": {},
   "source": [
    "# 데이터 정렬\n",
    "## ORDER BY 정렬방식 정렬기준\n",
    "\n",
    "\n",
    "```SQL\n",
    "SELECT * FROM user_table WHERE sex = 0 ORDER BY name;\n",
    "```"
   ]
  },
  {
   "cell_type": "code",
   "execution_count": 29,
   "metadata": {},
   "outputs": [
    {
     "name": "stdout",
     "output_type": "stream",
     "text": [
      "[{'id': 1, 'name': '김동호', 'sex': b'\\x00', 'home_address': '서울특별시 뭐시기 뭐시기', 'phone_number': '010-1234-1234'}, {'id': 2, 'name': '이아영', 'sex': b'\\x01', 'home_address': 'ㅁㄴㅇㅁㄴㅇ', 'phone_number': '010-1234-1235'}, {'id': 3, 'name': '홍길동', 'sex': b'\\x00', 'home_address': '서울특별시', 'phone_number': '010-1234-1234'}, {'id': 5, 'name': '홍길쓰리', 'sex': b'\\x00', 'home_address': '서울특별시', 'phone_number': '010-1234-1234'}, {'id': 4, 'name': '홍길투', 'sex': b'\\x01', 'home_address': '경기도', 'phone_number': '011-1234-1234'}, {'id': 6, 'name': '홍길포', 'sex': b'\\x00', 'home_address': '부산광역시', 'phone_number': '011-1234-1234'}]\n"
     ]
    }
   ],
   "source": [
    "sql =\"\"\"\n",
    "SELECT * FROM user_table ORDER BY name;\n",
    "\"\"\"\n",
    "\n",
    "cursor.execute(sql)\n",
    "result = cursor.fetchall()\n",
    "print(result)"
   ]
  }
 ],
 "metadata": {
  "kernelspec": {
   "display_name": "Python 3 (ipykernel)",
   "language": "python",
   "name": "python3"
  },
  "language_info": {
   "codemirror_mode": {
    "name": "ipython",
    "version": 3
   },
   "file_extension": ".py",
   "mimetype": "text/x-python",
   "name": "python",
   "nbconvert_exporter": "python",
   "pygments_lexer": "ipython3",
   "version": "3.11.4"
  },
  "orig_nbformat": 4
 },
 "nbformat": 4,
 "nbformat_minor": 2
}
