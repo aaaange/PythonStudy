{
 "cells": [
  {
   "cell_type": "code",
   "execution_count": 8,
   "metadata": {},
   "outputs": [
    {
     "name": "stdout",
     "output_type": "stream",
     "text": [
      "ent_test\n",
      "information_schema\n",
      "mysql\n",
      "performance_schema\n",
      "sys\n"
     ]
    }
   ],
   "source": [
    "import pymysql # MySQL 연동을 위한 라이브러리\n",
    "\n",
    "# MySQL Connection 연결\n",
    "mysql_db = pymysql.connect(\n",
    "    host='localhost',\n",
    "    user='root',\n",
    "    password='admin',\n",
    "    cursorclass=pymysql.cursors.DictCursor\n",
    ")\n",
    "\n",
    "cursor = mysql_db.cursor() # 커서 생성\n",
    "\n",
    "cursor.execute(\"SHOW DATABASES\") # 데이터베이스 목록을 조회\n",
    "# cursor.execute(쿼리문이 여기 들어감.)\n",
    "\n",
    "result = cursor.fetchall() # 실행한 쿼리의 결과를 모두 가져옴\n",
    "# print(result) # 데이터베이스 목록 출력\n",
    "# print(result) 결과 == [{'Database': 'ent_test'}, {'Database': 'information_schema'}, {'Database': 'mysql'}, {'Database': 'performance_schema'}, {'Database': 'sys'}]\n",
    "\n",
    "# 결과값이 list이기에, list안에 있는 데이터를 순서대로 하나씩 꺼내서 확인해보기.\n",
    "for db in result:\n",
    "    # 리스트 안에는 딕셔너리 형태로 데이터가 있음. key값이 동일하기에, key값을 통해 value값을 가져옴.\n",
    "    print(db['Database'])"
   ]
  },
  {
   "cell_type": "markdown",
   "metadata": {},
   "source": [
    "# SHOW {args}\n",
    "### {args}에 해당하는 값을 보여주는 쿼리문\n",
    "\n",
    "args에 올 수 있는 여러가지 요소들\n",
    "Databases -> 데이터베이스들\n",
    "Tables -> 데이터베이스 내에 테이블을 보여줌.\n",
    "예약어 -> 데이터베이스 시스템에서 기본적으로 정해져있는 변수들을 가져올 수 있음. ->"
   ]
  },
  {
   "cell_type": "code",
   "execution_count": 9,
   "metadata": {},
   "outputs": [
    {
     "name": "stdout",
     "output_type": "stream",
     "text": [
      "[{'Type': 'InnoDB', 'Name': '', 'Status': \"\\n=====================================\\n2023-09-16 09:54:51 281472098328448 INNODB MONITOR OUTPUT\\n=====================================\\nPer second averages calculated from the last 27 seconds\\n-----------------\\nBACKGROUND THREAD\\n-----------------\\nsrv_master_thread loops: 42 srv_active, 0 srv_shutdown, 189072 srv_idle\\nsrv_master_thread log flush and writes: 0\\n----------\\nSEMAPHORES\\n----------\\nOS WAIT ARRAY INFO: reservation count 2105\\nOS WAIT ARRAY INFO: signal count 2306\\nRW-shared spins 0, rounds 0, OS waits 0\\nRW-excl spins 0, rounds 0, OS waits 0\\nRW-sx spins 0, rounds 0, OS waits 0\\nSpin rounds per wait: 0.00 RW-shared, 0.00 RW-excl, 0.00 RW-sx\\n------------\\nTRANSACTIONS\\n------------\\nTrx id counter 15718\\nPurge done for trx's n:o < 15713 undo n:o < 0 state: running but idle\\nHistory list length 0\\nLIST OF TRANSACTIONS FOR EACH SESSION:\\n---TRANSACTION 562947600415152, not started\\n0 lock struct(s), heap size 1128, 0 row lock(s)\\n---TRANSACTION 562947600414344, not started\\n0 lock struct(s), heap size 1128, 0 row lock(s)\\n--------\\nFILE I/O\\n--------\\nI/O thread 0 state: waiting for completed aio requests ((null))\\nI/O thread 1 state: waiting for completed aio requests (insert buffer thread)\\nI/O thread 2 state: waiting for completed aio requests (read thread)\\nI/O thread 3 state: waiting for completed aio requests (read thread)\\nI/O thread 4 state: waiting for completed aio requests (read thread)\\nI/O thread 5 state: waiting for completed aio requests (read thread)\\nI/O thread 6 state: waiting for completed aio requests (write thread)\\nI/O thread 7 state: waiting for completed aio requests (write thread)\\nI/O thread 8 state: waiting for completed aio requests (write thread)\\nPending normal aio reads: [0, 0, 0, 0] , aio writes: [0, 0, 0, 0] ,\\n ibuf aio reads:\\nPending flushes (fsync) log: 0; buffer pool: 0\\n1799 OS file reads, 6651 OS file writes, 4099 OS fsyncs\\n0.00 reads/s, 0 avg bytes/read, 0.00 writes/s, 0.00 fsyncs/s\\n-------------------------------------\\nINSERT BUFFER AND ADAPTIVE HASH INDEX\\n-------------------------------------\\nIbuf: size 1, free list len 0, seg size 2, 0 merges\\nmerged operations:\\n insert 0, delete mark 0, delete 0\\ndiscarded operations:\\n insert 0, delete mark 0, delete 0\\nHash table size 34679, node heap has 1 buffer(s)\\nHash table size 34679, node heap has 1 buffer(s)\\nHash table size 34679, node heap has 1 buffer(s)\\nHash table size 34679, node heap has 2 buffer(s)\\nHash table size 34679, node heap has 1 buffer(s)\\nHash table size 34679, node heap has 2 buffer(s)\\nHash table size 34679, node heap has 2 buffer(s)\\nHash table size 34679, node heap has 2 buffer(s)\\n0.00 hash searches/s, 0.00 non-hash searches/s\\n---\\nLOG\\n---\\nLog sequence number          84975375\\nLog buffer assigned up to    84975375\\nLog buffer completed up to   84975375\\nLog written up to            84975375\\nLog flushed up to            84975375\\nAdded dirty pages up to      84975375\\nPages flushed up to          84975375\\nLast checkpoint at           84975375\\nLog minimum file id is       24\\nLog maximum file id is       25\\n1998 log i/o's done, 0.00 log i/o's/second\\n----------------------\\nBUFFER POOL AND MEMORY\\n----------------------\\nTotal large memory allocated 0\\nDictionary memory allocated 667991\\nBuffer pool size   8192\\nFree buffers       6746\\nDatabase pages     1434\\nOld database pages 546\\nModified db pages  0\\nPending reads      0\\nPending writes: LRU 0, flush list 0, single page 0\\nPages made young 0, not young 0\\n0.00 youngs/s, 0.00 non-youngs/s\\nPages read 1215, created 219, written 3528\\n0.00 reads/s, 0.00 creates/s, 0.00 writes/s\\nNo buffer pool page gets since the last printout\\nPages read ahead 0.00/s, evicted without access 0.00/s, Random read ahead 0.00/s\\nLRU len: 1434, unzip_LRU len: 0\\nI/O sum[0]:cur[0], unzip sum[0]:cur[0]\\n--------------\\nROW OPERATIONS\\n--------------\\n0 queries inside InnoDB, 0 queries in queue\\n1 read views open inside InnoDB\\nProcess ID=1, Main thread ID=281472132956032 , state=sleeping\\nNumber of rows inserted 0, updated 3, deleted 0, read 157\\n0.00 inserts/s, 0.00 updates/s, 0.00 deletes/s, 0.00 reads/s\\nNumber of system rows inserted 6098, updated 14164, deleted 6098, read 178113\\n0.00 inserts/s, 0.00 updates/s, 0.00 deletes/s, 0.00 reads/s\\n----------------------------\\nEND OF INNODB MONITOR OUTPUT\\n============================\\n\"}]\n"
     ]
    }
   ],
   "source": [
    "cursor.execute(\"SHOW engine innodb status\") # 시스템에서 미리 예약을 해둔 정보를 가져오는 용도로도 사용이 가능함.\n",
    "result = cursor.fetchall()\n",
    "print(result)"
   ]
  },
  {
   "cell_type": "markdown",
   "metadata": {},
   "source": [
    "# 데이터베이스 생성 해보기\n",
    "기본적으로, 데이터베이스를 부르는 명칭을 Schema\n",
    "\n",
    "```sql\n",
    "CREATE DATABASE 데이터베이스명(스키마명)\n",
    "```\n",
    "> CREATE {무엇을} {어떤것으로} {..} {..}\n",
    "무언가를 생성하는 쿼리문\n",
    "\n",
    "## 데이터베이스(스키마) 이름 규칙\n",
    "나이키 슈즈\n",
    "나이키_슈즈(모두 소문자로)\n",
    "Nike Shoes\n",
    "-> nike_shoes"
   ]
  },
  {
   "cell_type": "code",
   "execution_count": 10,
   "metadata": {},
   "outputs": [
    {
     "name": "stdout",
     "output_type": "stream",
     "text": [
      "ent_test\n",
      "information_schema\n",
      "mysql\n",
      "performance_schema\n",
      "sql_test\n",
      "sys\n"
     ]
    }
   ],
   "source": [
    "cursor.execute(\"CREATE DATABASE sql_test\") \n",
    "cursor.fetchall()\n",
    "\n",
    "cursor.execute(\"SHOW DATABASES\")\n",
    "result = cursor.fetchall()\n",
    "\n",
    "# 출력\n",
    "for db in result:\n",
    "    print(db['Database'])"
   ]
  },
  {
   "cell_type": "markdown",
   "metadata": {},
   "source": [
    "# 데이터베이스 생성을 했으니, 생성한 데이터베이스를 사용한다고 프로그램에 알려줌.\n",
    "\n",
    "```sql\n",
    "USE {데이터베이스명}\n",
    "```"
   ]
  },
  {
   "cell_type": "code",
   "execution_count": 20,
   "metadata": {},
   "outputs": [
    {
     "data": {
      "text/plain": [
       "()"
      ]
     },
     "execution_count": 20,
     "metadata": {},
     "output_type": "execute_result"
    }
   ],
   "source": [
    "cursor.execute(\"USE sql_test\") # sql_test 데이터베이스를 사용하겠다는 의미.\n",
    "cursor.fetchall() # 이 시점부터, 이 커넥션. 즉 이 커서는 sql_test 데이터베이스 위에서 모든 쿼리를 작동함."
   ]
  },
  {
   "cell_type": "code",
   "execution_count": 21,
   "metadata": {},
   "outputs": [
    {
     "data": {
      "text/plain": [
       "()"
      ]
     },
     "execution_count": 21,
     "metadata": {},
     "output_type": "execute_result"
    }
   ],
   "source": [
    "query = \"\"\"\n",
    "CREATE TABLE `user_table` (\n",
    "    `id` INT(11) NOT NULL AUTO_INCREMENT,\n",
    "    `name` VARCHAR(20) NOT NULL,\n",
    "    `sex` bit(1) NOT NULL,\n",
    "    `home_address` VARCHAR(50) NOT NULL,\n",
    "    `phone_number` VARCHAR(20) NOT NULL,\n",
    "    PRIMARY KEY(`id`)\n",
    ") ENGINE=InnoDB DEFAULT CHARSET=utf8mb4 COLLATE=utf8mb4_general_ci AUTO_INCREMENT=1;\n",
    "\"\"\"\n",
    "\n",
    "cursor.execute(query)\n",
    "cursor.fetchall()"
   ]
  },
  {
   "cell_type": "markdown",
   "metadata": {},
   "source": [
    "```sql\n",
    "CREATE TABLE user_table ( -> user_table 이름을 가진 테이블을 생성할것임. 그 다음 띄워서 ()를 두면, 괄호 안에 있는 정보가 user_table의 정보가 될거임\n",
    "    id INT NOT NULL AUTO_INCREMENT, -> primary key가 될 아이디 필드를 하나 준비. \n",
    "    name VARCHAR(20), NOT NULL\n",
    "    sex bit NOT NULL,\n",
    "    home_address VARCHAR(50) NOT NULL,\n",
    "    phone_number VARCHAR(20) NOT NULL,\n",
    "    PRIMARY KEY(id)\n",
    ") ENGINE=InnoDB DEFAULT CHARSET=utf8mb4 COLLATE=utf8mb4_general_ci AUTO_INCREMENT=1;\n",
    "```\n",
    "\n",
    "()안에 들어갈 인자값의 정의는\n",
    "(맨 앞에는 행의 이름) (데이터의 형식) (데이터의 부가적인 옵션'들')\n",
    "NOT NULL -> 데이터가 비어있지 않을경우.\n",
    "AUTO_INCREMENT -> 자동으로 데이터를 증가하게 해주는 구문."
   ]
  },
  {
   "cell_type": "code",
   "execution_count": 22,
   "metadata": {},
   "outputs": [
    {
     "name": "stdout",
     "output_type": "stream",
     "text": [
      "user_table\n"
     ]
    }
   ],
   "source": [
    "cursor.execute(\"SHOW TABLES\") # 이미 DB는 USE문을 통해 선택을 했으니, 테이블을 보여달라고 하면 바로 그 데이터베이스의 테이블을 보여줌\n",
    "result = cursor.fetchall()\n",
    "for tabel in result:\n",
    "    print(tabel['Tables_in_sql_test'])"
   ]
  }
 ],
 "metadata": {
  "kernelspec": {
   "display_name": "Python 3 (ipykernel)",
   "language": "python",
   "name": "python3"
  },
  "language_info": {
   "codemirror_mode": {
    "name": "ipython",
    "version": 3
   },
   "file_extension": ".py",
   "mimetype": "text/x-python",
   "name": "python",
   "nbconvert_exporter": "python",
   "pygments_lexer": "ipython3",
   "version": "3.11.4"
  },
  "orig_nbformat": 4
 },
 "nbformat": 4,
 "nbformat_minor": 2
}
